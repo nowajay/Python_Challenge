{
 "cells": [
  {
   "cell_type": "code",
   "execution_count": 15,
   "id": "bd805c09",
   "metadata": {},
   "outputs": [],
   "source": [
    "import os \n",
    "import csv"
   ]
  },
  {
   "cell_type": "code",
   "execution_count": 16,
   "id": "7826aff2",
   "metadata": {},
   "outputs": [],
   "source": [
    "pypoll_csv = os.path.join(\"Resources\" , \"election_data.csv\")"
   ]
  },
  {
   "cell_type": "code",
   "execution_count": 17,
   "id": "412ee9ca",
   "metadata": {},
   "outputs": [
    {
     "name": "stdout",
     "output_type": "stream",
     "text": [
      "Header: Ballot ID,County,Candidate\n",
      "\n",
      "369711\n"
     ]
    }
   ],
   "source": [
    "with open(pypoll_csv) as csvfile:\n",
    "    csv_reader = csv.reader(csvfile, delimiter = \",\")\n",
    "    \n",
    "    csv_header = next(csvfile)\n",
    "    print(f\"Header: {csv_header}\")\n",
    "    \n",
    "    vote_count = sum(1 for row in csv_reader)\n",
    "    \n",
    "    print(vote_count)"
   ]
  },
  {
   "cell_type": "code",
   "execution_count": 49,
   "id": "9d2d55f3",
   "metadata": {},
   "outputs": [
    {
     "name": "stdout",
     "output_type": "stream",
     "text": [
      "Election Results\n",
      "    \n",
      "    ----------------------------\n",
      "    \n",
      "    Total Votes: 369711\n",
      "    \n",
      "    ----------------------------\n",
      "    \n",
      "    Charles Casper Stockham: 23.04854332167558% (85213)\n",
      "    Diana DeGette: 73.81224794501652% (272892)\n",
      "    Raymon Anthony Doane: 3.1392087333079077% (11606)\n",
      "    \n",
      "    ----------------------------\n",
      "    \n",
      "    Winner: Diana DeGette\n",
      "    \n",
      "    ----------------------------\n"
     ]
    }
   ],
   "source": [
    "with open(pypoll_csv) as csvfile:\n",
    "    csv_reader = csv.reader(csvfile, delimiter = \",\")\n",
    "    \n",
    "    Stockham_votes = 0\n",
    "    DeGette_votes = 0\n",
    "    Doane_votes = 0\n",
    "    \n",
    "    for row in csv_reader:\n",
    "        if row[2] ==\"Charles Casper Stockham\":\n",
    "            Stockham_votes += 1\n",
    "        \n",
    "        elif row[2] == \"Diana DeGette\":\n",
    "            DeGette_votes += 1\n",
    "        \n",
    "        elif row[2] == \"Raymon Anthony Doane\":\n",
    "            Doane_votes += 1 \n",
    "            \n",
    "    Results = {\"Charles Casper Stockham\" : Stockham_votes , \"Diana DeGette\" : DeGette_votes , \"Raymon Anthony Doane\" : Doane_votes}\n",
    "            \n",
    "    Winner = max(Results, key=Results.get)\n",
    "    \n",
    "    Stockham_percent = (Stockham_votes / vote_count) * 100\n",
    "    DeGette_percent = (DeGette_votes / vote_count) * 100\n",
    "    Doane_percent = (Doane_votes / vote_count) * 100\n",
    "    \n",
    "    results_and_winner = f\"\"\"Election Results\n",
    "    \n",
    "    ----------------------------\n",
    "    \n",
    "    Total Votes: {vote_count}\n",
    "    \n",
    "    ----------------------------\n",
    "    \n",
    "    Charles Casper Stockham: {Stockham_percent}% ({Stockham_votes})\n",
    "    Diana DeGette: {DeGette_percent}% ({DeGette_votes})\n",
    "    Raymon Anthony Doane: {Doane_percent}% ({Doane_votes})\n",
    "    \n",
    "    ----------------------------\n",
    "    \n",
    "    Winner: {Winner}\n",
    "    \n",
    "    ----------------------------\"\"\"\n",
    "    \n",
    "    print(results_and_winner)\n",
    "    \n",
    "    file = open(\"Winners.txt\" , \"w\")\n",
    "    file.write(results_and_winner)\n",
    "    file.close()"
   ]
  },
  {
   "cell_type": "code",
   "execution_count": 20,
   "id": "e091257d",
   "metadata": {},
   "outputs": [],
   "source": [
    "\n",
    "    \n",
    "    "
   ]
  },
  {
   "cell_type": "code",
   "execution_count": null,
   "id": "85ddc0fd",
   "metadata": {},
   "outputs": [],
   "source": []
  }
 ],
 "metadata": {
  "kernelspec": {
   "display_name": "Python 3 (ipykernel)",
   "language": "python",
   "name": "python3"
  },
  "language_info": {
   "codemirror_mode": {
    "name": "ipython",
    "version": 3
   },
   "file_extension": ".py",
   "mimetype": "text/x-python",
   "name": "python",
   "nbconvert_exporter": "python",
   "pygments_lexer": "ipython3",
   "version": "3.9.13"
  }
 },
 "nbformat": 4,
 "nbformat_minor": 5
}
