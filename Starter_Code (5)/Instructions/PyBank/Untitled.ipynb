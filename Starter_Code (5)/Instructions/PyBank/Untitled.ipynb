{
 "cells": [
  {
   "cell_type": "code",
   "execution_count": 79,
   "id": "70054b07",
   "metadata": {},
   "outputs": [],
   "source": [
    "import os\n",
    "import csv"
   ]
  },
  {
   "cell_type": "code",
   "execution_count": 80,
   "id": "2acce8d7",
   "metadata": {},
   "outputs": [
    {
     "data": {
      "text/plain": [
       "'Resources\\\\budget_data.csv'"
      ]
     },
     "execution_count": 80,
     "metadata": {},
     "output_type": "execute_result"
    }
   ],
   "source": [
    "pybank_csv = os.path.join('Resources', 'budget_data.csv')\n",
    "pybank_csv"
   ]
  },
  {
   "cell_type": "code",
   "execution_count": 100,
   "id": "08ca98fd",
   "metadata": {},
   "outputs": [
    {
     "name": "stdout",
     "output_type": "stream",
     "text": [
      "\n",
      "    \"Financial Analysis\"\n",
      "    \"------------------------------\"\n",
      "    \"Total Months: 86\"\n",
      "    \"Total: $22564198\"\n",
      "    \"Average  Change: $-8311.105882352942\"\n",
      "    \"Greatest Increase in Profits: Aug-16 ($ 1862002)\"\n",
      "    \"Greatest Decrease in Profits: Feb-14 ($ -1825558)\"\n",
      "    -------------------------------\n"
     ]
    }
   ],
   "source": [
    "#Set variables to 0 \n",
    "month_counter = 0\n",
    "total_budget = 0\n",
    "open_value = 0\n",
    "total = 0\n",
    "#Create lists for values\n",
    "change_list = []\n",
    "months_list = []\n",
    "#Creat variables for greatest profit and greratest loss of profit and set to 0\n",
    "greatest_profit = 0\n",
    "loss_profit = 0\n",
    "#Read csv file\n",
    "with open(pybank_csv) as csvfile:\n",
    "\n",
    "    csv_reader = csv.reader(csvfile, delimiter=',')\n",
    "#Skip header    \n",
    "    next(csv_reader)\n",
    "\n",
    "    for row in csv_reader:\n",
    "#Create a formula for month and total    \n",
    "        month_counter +=1\n",
    "        total_budget += int(row[1])\n",
    "#Create if statement to skip header and append lists            \n",
    "        if open_value != 0:\n",
    "            change = int(row[1]) - open_value\n",
    "            m_change = str(row[0])\n",
    "            change_list.append(change)\n",
    "            months_list.append(m_change)\n",
    "        \n",
    "        open_value = int(row[1])\n",
    "#Formulas for change lists, greatest profit, and loss profit \n",
    "    for i in change_list:\n",
    "        total = total + i\n",
    "        \n",
    "        if i > greatest_profit:\n",
    "            greatest_profit = i\n",
    "            \n",
    "        if i < loss_profit:\n",
    "            loss_profit = i\n",
    "#Formula for average change  \n",
    "    average_change = total/len(change_list)\n",
    "#Assigning lists to variables for analysis\n",
    "    greatest_month = months_list[change_list.index(greatest_profit)]\n",
    "    loss_month = months_list[change_list.index(loss_profit)]\n",
    "\n",
    "bank_results = f\"\"\"\n",
    "    \"Financial Analysis\"\n",
    "    \"------------------------------\"\n",
    "    \"Total Months: {month_counter}\"\n",
    "    \"Total: ${total_budget}\"\n",
    "    \"Average  Change: ${average_change}\"\n",
    "    \"Greatest Increase in Profits: {greatest_month} ($ {greatest_profit})\"\n",
    "    \"Greatest Decrease in Profits: {loss_month} ($ {loss_profit})\"\n",
    "    -------------------------------\"\"\"\n",
    "\n",
    "print(bank_results)\n",
    "\n",
    "file = open(\"Bank Results.txt\" , \"w\")\n",
    "file.write(bank_results)\n",
    "file.close()"
   ]
  },
  {
   "cell_type": "code",
   "execution_count": null,
   "id": "995bedcf",
   "metadata": {},
   "outputs": [],
   "source": []
  },
  {
   "cell_type": "code",
   "execution_count": null,
   "id": "57801b3e",
   "metadata": {},
   "outputs": [],
   "source": []
  },
  {
   "cell_type": "code",
   "execution_count": null,
   "id": "c6a3c81f",
   "metadata": {},
   "outputs": [],
   "source": [
    "\n",
    "    \n",
    "        "
   ]
  },
  {
   "cell_type": "code",
   "execution_count": null,
   "id": "09b496eb",
   "metadata": {},
   "outputs": [],
   "source": []
  },
  {
   "cell_type": "code",
   "execution_count": null,
   "id": "ea9807dc",
   "metadata": {},
   "outputs": [],
   "source": [
    "\n"
   ]
  },
  {
   "cell_type": "code",
   "execution_count": null,
   "id": "d6561373",
   "metadata": {},
   "outputs": [],
   "source": []
  },
  {
   "cell_type": "code",
   "execution_count": null,
   "id": "43411ccd",
   "metadata": {},
   "outputs": [],
   "source": [
    "          "
   ]
  },
  {
   "cell_type": "code",
   "execution_count": null,
   "id": "18ee2970",
   "metadata": {},
   "outputs": [],
   "source": []
  },
  {
   "cell_type": "code",
   "execution_count": null,
   "id": "6de67f32",
   "metadata": {},
   "outputs": [],
   "source": []
  },
  {
   "cell_type": "code",
   "execution_count": null,
   "id": "856a9705",
   "metadata": {},
   "outputs": [],
   "source": []
  }
 ],
 "metadata": {
  "kernelspec": {
   "display_name": "Python 3 (ipykernel)",
   "language": "python",
   "name": "python3"
  },
  "language_info": {
   "codemirror_mode": {
    "name": "ipython",
    "version": 3
   },
   "file_extension": ".py",
   "mimetype": "text/x-python",
   "name": "python",
   "nbconvert_exporter": "python",
   "pygments_lexer": "ipython3",
   "version": "3.9.13"
  }
 },
 "nbformat": 4,
 "nbformat_minor": 5
}
